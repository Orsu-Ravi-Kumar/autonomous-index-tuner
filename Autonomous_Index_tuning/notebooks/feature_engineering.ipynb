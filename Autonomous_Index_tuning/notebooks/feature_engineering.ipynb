{
 "cells": [
  {
   "cell_type": "code",
   "execution_count": 9,
   "id": "0e514dbb",
   "metadata": {},
   "outputs": [
    {
     "name": "stdout",
     "output_type": "stream",
     "text": [
      "Columns: ['query_hash', 'execution_count', 'avg_cpu_time', 'avg_elapsed_time', 'avg_logical_reads', 'avg_logical_writes', 'query_text']\n",
      "Nulls per column:\n",
      " query_hash            0\n",
      "execution_count       0\n",
      "avg_cpu_time          0\n",
      "avg_elapsed_time      0\n",
      "avg_logical_reads     0\n",
      "avg_logical_writes    0\n",
      "query_text            0\n",
      "dtype: int64\n",
      "✅ Features saved to features_query_stats.csv\n"
     ]
    }
   ],
   "source": [
    "import pandas as pd\n",
    "import numpy as np\n",
    "from sklearn.preprocessing import MinMaxScaler\n",
    "df = pd.read_csv('../data/query_stats.csv')\n",
    "df.head()\n",
    "print(\"Columns:\", df.columns.tolist())\n",
    "print(\"Nulls per column:\\n\", df.isnull().sum())\n",
    "df = df.dropna()\n",
    "# Query text length\n",
    "df['query_length'] = df['query_text'].apply(len)\n",
    "\n",
    "# Drop unused columns (hash & text)\n",
    "df_model = df.drop(columns=['query_hash', 'query_text'])\n",
    "scaler = MinMaxScaler()\n",
    "scaled = scaler.fit_transform(df_model)\n",
    "df_scaled = pd.DataFrame(scaled, columns=df_model.columns)\n",
    "df_scaled.to_csv('../data/features_query_stats.csv', index=False)\n",
    "print(\"✅ Features saved to features_query_stats.csv\")\n"
   ]
  }
 ],
 "metadata": {
  "kernelspec": {
   "display_name": "venv",
   "language": "python",
   "name": "python3"
  },
  "language_info": {
   "codemirror_mode": {
    "name": "ipython",
    "version": 3
   },
   "file_extension": ".py",
   "mimetype": "text/x-python",
   "name": "python",
   "nbconvert_exporter": "python",
   "pygments_lexer": "ipython3",
   "version": "3.13.3"
  }
 },
 "nbformat": 4,
 "nbformat_minor": 5
}
