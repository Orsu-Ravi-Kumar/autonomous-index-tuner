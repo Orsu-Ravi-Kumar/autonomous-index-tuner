{
 "cells": [
  {
   "cell_type": "code",
   "execution_count": 6,
   "id": "a52c0532",
   "metadata": {},
   "outputs": [],
   "source": [
    "import pandas as pd\n",
    "from sklearn.model_selection import train_test_split\n",
    "from sklearn.ensemble import RandomForestClassifier\n",
    "from sklearn.metrics import classification_report, confusion_matrix\n"
   ]
  },
  {
   "cell_type": "code",
   "execution_count": 7,
   "id": "e5a549cc",
   "metadata": {},
   "outputs": [
    {
     "name": "stdout",
     "output_type": "stream",
     "text": [
      "✅ Scaler saved successfully.\n",
      "✅ Model saved successfully.\n"
     ]
    }
   ],
   "source": [
    "df = pd.read_csv('../data/features_query_stats.csv')\n",
    "# Step 1: Reload full dataset\n",
    "df = pd.read_csv('../data/features_query_stats.csv')\n",
    "\n",
    "# Step 2: Create label\n",
    "threshold = df['avg_cpu_time'].quantile(0.75)\n",
    "df['label'] = df['avg_cpu_time'].apply(lambda x: 1 if x >= threshold else 0)\n",
    "\n",
    "# Step 3: Separate X and y\n",
    "X = df.drop(columns=['label'])\n",
    "y = df['label']\n",
    "\n",
    "# Step 4: Fit and save scaler\n",
    "from sklearn.preprocessing import MinMaxScaler\n",
    "scaler = MinMaxScaler()\n",
    "X_scaled = scaler.fit_transform(X)\n",
    "\n",
    "# Step 5: Save the scaler\n",
    "import joblib\n",
    "joblib.dump(scaler, '../data/feature_scaler.pkl')\n",
    "print(\"✅ Scaler saved successfully.\")\n",
    "\n",
    "# Step 6: Train model\n",
    "from sklearn.ensemble import RandomForestClassifier\n",
    "model = RandomForestClassifier(n_estimators=100, random_state=42)\n",
    "model.fit(X_scaled, y)\n",
    "\n",
    "# Step 7: Save model\n",
    "joblib.dump(model, '../data/index_recommender_model.pkl')\n",
    "print(\"✅ Model saved successfully.\")\n",
    "\n"
   ]
  }
 ],
 "metadata": {
  "kernelspec": {
   "display_name": "venv",
   "language": "python",
   "name": "python3"
  },
  "language_info": {
   "codemirror_mode": {
    "name": "ipython",
    "version": 3
   },
   "file_extension": ".py",
   "mimetype": "text/x-python",
   "name": "python",
   "nbconvert_exporter": "python",
   "pygments_lexer": "ipython3",
   "version": "3.13.3"
  }
 },
 "nbformat": 4,
 "nbformat_minor": 5
}
